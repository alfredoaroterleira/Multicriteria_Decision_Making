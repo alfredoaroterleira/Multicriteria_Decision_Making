{
 "cells": [
  {
   "cell_type": "markdown",
   "id": "23a50b01-1d35-42d7-ae8c-85e4917034e1",
   "metadata": {},
   "source": [
    "# Multicriteria Decision-Making"
   ]
  },
  {
   "cell_type": "markdown",
   "id": "a4cd8fb4-1940-4643-972a-bd5058444f2c",
   "metadata": {},
   "source": [
    "## 1. Prepare data file with the comparissons: "
   ]
  },
  {
   "cell_type": "code",
   "execution_count": 3,
   "id": "dc0f871b-bde2-4704-8a92-20774b1e5760",
   "metadata": {},
   "outputs": [
    {
     "data": {
      "text/html": [
       "\n",
       "<iframe src=\"https://docs.google.com/spreadsheets/d/e/2PACX-1vTp6Y4VYmX9litU3wIZgltwhbHnOACVxdvTHhM6PPqAkCViymp_oO9ONhmWBAU0FSPNYSEDimts7nYq/pubhtml?widget=true&headers=false\" width=\"600\" height=\"300\"></iframe>\n"
      ],
      "text/plain": [
       "<IPython.core.display.HTML object>"
      ]
     },
     "metadata": {},
     "output_type": "display_data"
    }
   ],
   "source": [
    "%%html\n",
    "\n",
    "<iframe src=\"https://docs.google.com/spreadsheets/d/e/2PACX-1vTp6Y4VYmX9litU3wIZgltwhbHnOACVxdvTHhM6PPqAkCViymp_oO9ONhmWBAU0FSPNYSEDimts7nYq/pubhtml?widget=true&headers=false\" width=\"600\" height=\"300\"></iframe>"
   ]
  },
  {
   "cell_type": "markdown",
   "id": "66127c45-ed99-4b18-91a5-281e6c79b047",
   "metadata": {},
   "source": [
    "## 2. Get the data (Excel)"
   ]
  },
  {
   "cell_type": "code",
   "execution_count": 5,
   "id": "cffb54c7-a15a-4eb4-9b42-71f66b98d592",
   "metadata": {},
   "outputs": [],
   "source": [
    "linkGoogle = 'https://docs.google.com/spreadsheets/d/e/2PACX-1vTp6Y4VYmX9litU3wIZgltwhbHnOACVxdvTHhM6PPqAkCViymp_oO9ONhmWBAU0FSPNYSEDimts7nYq/pub?output=xlsx'"
   ]
  },
  {
   "cell_type": "markdown",
   "id": "9fb8d48d-b60a-49cf-990f-08febb2eef90",
   "metadata": {},
   "source": [
    "## 3. Open each sheet:"
   ]
  },
  {
   "cell_type": "code",
   "execution_count": 7,
   "id": "8d06051c-9343-4c3b-bf85-a81ed3d6167c",
   "metadata": {},
   "outputs": [],
   "source": [
    "import pandas as pd\n",
    "\n",
    "pairwise_cost_living=pd.read_excel(linkGoogle,sheet_name='cost_living', index_col=0)\n",
    "pairwise_language=pd.read_excel(linkGoogle,sheet_name='language', index_col=0)\n",
    "pairwise_job_finding=pd.read_excel(linkGoogle,sheet_name='job_finding', index_col=0)\n",
    "pairwise_criteria=pd.read_excel(linkGoogle,sheet_name='criteria', index_col=0)\n"
   ]
  },
  {
   "cell_type": "markdown",
   "id": "72ee3c70-745e-4a9e-a444-31e05a80c12d",
   "metadata": {},
   "source": [
    "Check the structure:"
   ]
  },
  {
   "cell_type": "code",
   "execution_count": 9,
   "id": "c0cb27b1-20fc-4dd2-9207-69c66beb753d",
   "metadata": {},
   "outputs": [
    {
     "data": {
      "text/html": [
       "<div>\n",
       "<style scoped>\n",
       "    .dataframe tbody tr th:only-of-type {\n",
       "        vertical-align: middle;\n",
       "    }\n",
       "\n",
       "    .dataframe tbody tr th {\n",
       "        vertical-align: top;\n",
       "    }\n",
       "\n",
       "    .dataframe thead th {\n",
       "        text-align: right;\n",
       "    }\n",
       "</style>\n",
       "<table border=\"1\" class=\"dataframe\">\n",
       "  <thead>\n",
       "    <tr style=\"text-align: right;\">\n",
       "      <th></th>\n",
       "      <th>cost_living</th>\n",
       "      <th>language</th>\n",
       "      <th>job_finding</th>\n",
       "    </tr>\n",
       "  </thead>\n",
       "  <tbody>\n",
       "    <tr>\n",
       "      <th>cost_living</th>\n",
       "      <td>1.000000</td>\n",
       "      <td>7</td>\n",
       "      <td>0.125</td>\n",
       "    </tr>\n",
       "    <tr>\n",
       "      <th>language</th>\n",
       "      <td>0.142857</td>\n",
       "      <td>1</td>\n",
       "      <td>0.125</td>\n",
       "    </tr>\n",
       "    <tr>\n",
       "      <th>job_finding</th>\n",
       "      <td>8.000000</td>\n",
       "      <td>8</td>\n",
       "      <td>1.000</td>\n",
       "    </tr>\n",
       "  </tbody>\n",
       "</table>\n",
       "</div>"
      ],
      "text/plain": [
       "             cost_living  language  job_finding\n",
       "cost_living     1.000000         7        0.125\n",
       "language        0.142857         1        0.125\n",
       "job_finding     8.000000         8        1.000"
      ]
     },
     "execution_count": 9,
     "metadata": {},
     "output_type": "execute_result"
    }
   ],
   "source": [
    "pairwise_criteria"
   ]
  },
  {
   "cell_type": "markdown",
   "id": "f1962a91-ac14-4703-ae61-99e8219a9370",
   "metadata": {},
   "source": [
    "4. Transform all matrices into pairwise comparissons: "
   ]
  },
  {
   "cell_type": "code",
   "execution_count": 11,
   "id": "51050e9b-b030-4a40-9081-9b4af9410040",
   "metadata": {},
   "outputs": [
    {
     "data": {
      "text/plain": [
       "OutMultiEdgeDataView([('Brazil', 'Brazil', {'weight': 1.0}), ('Brazil', 'Spain', {'weight': 7.0}), ('Brazil', 'Germany', {'weight': 7.0}), ('Brazil', 'USA', {'weight': 9.0}), ('Spain', 'Spain', {'weight': 1.0}), ('Spain', 'Brazil', {'weight': 0.142857142}), ('Spain', 'Germany', {'weight': 5.0}), ('Spain', 'USA', {'weight': 8.0}), ('Germany', 'Germany', {'weight': 1.0}), ('Germany', 'Brazil', {'weight': 0.142857142}), ('Germany', 'Spain', {'weight': 0.2}), ('Germany', 'USA', {'weight': 6.0}), ('USA', 'USA', {'weight': 1.0}), ('USA', 'Brazil', {'weight': 0.1111111111}), ('USA', 'Spain', {'weight': 0.125}), ('USA', 'Germany', {'weight': 0.166666666})])"
      ]
     },
     "execution_count": 11,
     "metadata": {},
     "output_type": "execute_result"
    }
   ],
   "source": [
    "import networkx as nx\n",
    "\n",
    "G_living = nx.from_pandas_adjacency(pairwise_cost_living,create_using=nx.MultiDiGraph())\n",
    "G_living.edges(data=True)"
   ]
  },
  {
   "cell_type": "markdown",
   "id": "d1bf123c-81f0-4ebf-bcea-c5b44574244c",
   "metadata": {},
   "source": [
    "All good :)"
   ]
  },
  {
   "cell_type": "code",
   "execution_count": 13,
   "id": "ab32c393-9f1e-4f0c-9225-6e3947996cf2",
   "metadata": {},
   "outputs": [
    {
     "data": {
      "text/plain": [
       "{('Brazil', 'Spain'): 7.0,\n",
       " ('Brazil', 'Germany'): 7.0,\n",
       " ('Brazil', 'USA'): 9.0,\n",
       " ('Spain', 'Brazil'): 0.142857142,\n",
       " ('Spain', 'Germany'): 5.0,\n",
       " ('Spain', 'USA'): 8.0,\n",
       " ('Germany', 'Brazil'): 0.142857142,\n",
       " ('Germany', 'Spain'): 0.2,\n",
       " ('Germany', 'USA'): 6.0,\n",
       " ('USA', 'Brazil'): 0.1111111111,\n",
       " ('USA', 'Spain'): 0.125,\n",
       " ('USA', 'Germany'): 0.166666666}"
      ]
     },
     "execution_count": 13,
     "metadata": {},
     "output_type": "execute_result"
    }
   ],
   "source": [
    "living_comparisons ={(e[0],e[1]):e[2]['weight'] for e in G_living.edges(data=True) if e[0]!= e[1]}\n",
    "living_comparisons"
   ]
  },
  {
   "cell_type": "code",
   "execution_count": 14,
   "id": "84cf4604-5ddb-4d00-b64d-30efad33f567",
   "metadata": {},
   "outputs": [],
   "source": [
    "G_language = nx.from_pandas_adjacency(pairwise_language,create_using=nx.MultiDiGraph())\n",
    "language_comparisons={(e[0],e[1]):e[2]['weight'] for e in G_language.edges(data=True) if e[0]!= e[1]}\n",
    "\n",
    "G_job = nx.from_pandas_adjacency(pairwise_job_finding,create_using=nx.MultiDiGraph())\n",
    "job_comparisons={(e[0],e[1]):e[2]['weight'] for e in G_job.edges(data=True) if e[0]!= e[1]}"
   ]
  },
  {
   "cell_type": "code",
   "execution_count": 15,
   "id": "d66710b9-b055-453b-820c-9b45abf70e80",
   "metadata": {},
   "outputs": [
    {
     "data": {
      "text/plain": [
       "[{('Brazil', 'Spain'): 7.0,\n",
       "  ('Brazil', 'Germany'): 7.0,\n",
       "  ('Brazil', 'USA'): 9.0,\n",
       "  ('Spain', 'Brazil'): 0.142857142,\n",
       "  ('Spain', 'Germany'): 5.0,\n",
       "  ('Spain', 'USA'): 8.0,\n",
       "  ('Germany', 'Brazil'): 0.142857142,\n",
       "  ('Germany', 'Spain'): 0.2,\n",
       "  ('Germany', 'USA'): 6.0,\n",
       "  ('USA', 'Brazil'): 0.1111111111,\n",
       "  ('USA', 'Spain'): 0.125,\n",
       "  ('USA', 'Germany'): 0.166666666},\n",
       " {('Brazil', 'Spain'): 0.142857142,\n",
       "  ('Brazil', 'Germany'): 7.0,\n",
       "  ('Brazil', 'USA'): 0.142857142,\n",
       "  ('Spain', 'Brazil'): 7.0,\n",
       "  ('Spain', 'Germany'): 9.0,\n",
       "  ('Spain', 'USA'): 7.0,\n",
       "  ('Germany', 'Brazil'): 0.142857142,\n",
       "  ('Germany', 'Spain'): 0.1111111111,\n",
       "  ('Germany', 'USA'): 0.125,\n",
       "  ('USA', 'Brazil'): 7.0,\n",
       "  ('USA', 'Spain'): 0.142857142,\n",
       "  ('USA', 'Germany'): 8.0},\n",
       " {('Brazil', 'Spain'): 0.333333333,\n",
       "  ('Brazil', 'Germany'): 0.142857142,\n",
       "  ('Brazil', 'USA'): 0.1111111111,\n",
       "  ('Spain', 'Brazil'): 3.0,\n",
       "  ('Spain', 'Germany'): 0.2,\n",
       "  ('Spain', 'USA'): 0.142857142,\n",
       "  ('Germany', 'Brazil'): 7.0,\n",
       "  ('Germany', 'Spain'): 5.0,\n",
       "  ('Germany', 'USA'): 0.333333333,\n",
       "  ('USA', 'Brazil'): 9.0,\n",
       "  ('USA', 'Spain'): 7.0,\n",
       "  ('USA', 'Germany'): 3.0}]"
      ]
     },
     "execution_count": 15,
     "metadata": {},
     "output_type": "execute_result"
    }
   ],
   "source": [
    "# take a look\n",
    "[living_comparisons, language_comparisons,job_comparisons]"
   ]
  },
  {
   "cell_type": "code",
   "execution_count": 16,
   "id": "3e9b95ab-fc41-449f-a980-f9c2ead74a96",
   "metadata": {},
   "outputs": [
    {
     "data": {
      "text/plain": [
       "{('cost_living', 'language'): 7.0,\n",
       " ('cost_living', 'job_finding'): 0.125,\n",
       " ('language', 'cost_living'): 0.142857142,\n",
       " ('language', 'job_finding'): 0.125,\n",
       " ('job_finding', 'cost_living'): 8.0,\n",
       " ('job_finding', 'language'): 8.0}"
      ]
     },
     "execution_count": 16,
     "metadata": {},
     "output_type": "execute_result"
    }
   ],
   "source": [
    "# now the criteria\n",
    "\n",
    "G_CRIT = nx.from_pandas_adjacency(pairwise_criteria,create_using=nx.MultiDiGraph())\n",
    "criteria_comparisons ={(e[0],e[1]):e[2]['weight'] for e in G_CRIT.edges(data=True) if e[0]!= e[1]}\n",
    "criteria_comparisons"
   ]
  },
  {
   "cell_type": "markdown",
   "id": "ebd9818b-5adf-40e3-9ef8-e6af4e2e8652",
   "metadata": {},
   "source": [
    "## 5. Apply the Algorithm"
   ]
  },
  {
   "cell_type": "code",
   "execution_count": 18,
   "id": "1d1c71e2-c911-4bca-b20e-9af6cf4f7a74",
   "metadata": {},
   "outputs": [
    {
     "name": "stdout",
     "output_type": "stream",
     "text": [
      "Requirement already satisfied: ahpy in c:\\users\\usuario\\anaconda3\\lib\\site-packages (2.0)\n",
      "Requirement already satisfied: numpy in c:\\users\\usuario\\anaconda3\\lib\\site-packages (from ahpy) (1.26.4)\n",
      "Requirement already satisfied: scipy in c:\\users\\usuario\\anaconda3\\lib\\site-packages (from ahpy) (1.13.1)\n"
     ]
    }
   ],
   "source": [
    "!pip install ahpy"
   ]
  },
  {
   "cell_type": "code",
   "execution_count": 19,
   "id": "a3dc95fe-64c8-4f93-ae21-146d40f5698c",
   "metadata": {},
   "outputs": [],
   "source": [
    "import ahpy\n",
    "\n",
    "living = ahpy.Compare('living', living_comparisons, precision=3, random_index='saaty')\n",
    "language = ahpy.Compare('language', language_comparisons, precision=3, random_index='saaty')\n",
    "job = ahpy.Compare('job', job_comparisons, precision=3, random_index='saaty')\n",
    "criteria = ahpy.Compare('criteria', criteria_comparisons, precision=3, random_index='saaty')"
   ]
  },
  {
   "cell_type": "markdown",
   "id": "d95fc0ea-ad86-47be-a755-1b9faf0f38b3",
   "metadata": {},
   "source": [
    "## 6. Create hierarchy"
   ]
  },
  {
   "cell_type": "code",
   "execution_count": 21,
   "id": "d226801d-fa09-417d-9b8e-80684e873a39",
   "metadata": {},
   "outputs": [],
   "source": [
    "criteria.add_children([living, language, job])"
   ]
  },
  {
   "cell_type": "markdown",
   "id": "77ddc147-3cb9-4909-8931-dac1c162cbb4",
   "metadata": {},
   "source": [
    "## 7. See result:"
   ]
  },
  {
   "cell_type": "code",
   "execution_count": 23,
   "id": "4fdce081-7aa0-4305-9e87-3cd001b5a34c",
   "metadata": {},
   "outputs": [
    {
     "name": "stdout",
     "output_type": "stream",
     "text": [
      "{'Spain': 0.032, 'USA': 0.012, 'Brazil': 0.004, 'Germany': 0.001}\n"
     ]
    }
   ],
   "source": [
    "print(criteria.target_weights)"
   ]
  },
  {
   "cell_type": "markdown",
   "id": "d5215d3e-30c4-435b-94f9-4b328e47eeb1",
   "metadata": {},
   "source": [
    "## 8. Assess consistency"
   ]
  },
  {
   "cell_type": "code",
   "execution_count": 25,
   "id": "63c3c634-e5ec-4bb1-ae7f-ea04230982c7",
   "metadata": {},
   "outputs": [
    {
     "data": {
      "text/plain": [
       "[('living', 0.248), ('language', 0.333), ('job', 0.062), ('criteria', 0.419)]"
      ]
     },
     "execution_count": 25,
     "metadata": {},
     "output_type": "execute_result"
    }
   ],
   "source": [
    "## We should review comparissons if greater than 0.1!\n",
    "[(val.name,val.consistency_ratio) for val in [living, language, job, criteria]]"
   ]
  }
 ],
 "metadata": {
  "kernelspec": {
   "display_name": "Python 3 (ipykernel)",
   "language": "python",
   "name": "python3"
  },
  "language_info": {
   "codemirror_mode": {
    "name": "ipython",
    "version": 3
   },
   "file_extension": ".py",
   "mimetype": "text/x-python",
   "name": "python",
   "nbconvert_exporter": "python",
   "pygments_lexer": "ipython3",
   "version": "3.12.3"
  }
 },
 "nbformat": 4,
 "nbformat_minor": 5
}
